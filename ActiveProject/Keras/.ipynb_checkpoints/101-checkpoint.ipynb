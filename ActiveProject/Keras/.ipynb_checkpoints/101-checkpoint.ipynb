{
 "cells": [
  {
   "cell_type": "markdown",
   "metadata": {},
   "source": [
    "* C:\\acor\\Scripts>pip install keras\n",
    "* C:\\acor\\Scripts>pip install theano\n",
    "\n",
    "* Run below at Anaconda Prompt: (base) C:\\>conda install m2w64-toolchain"
   ]
  },
  {
   "cell_type": "code",
   "execution_count": 44,
   "metadata": {},
   "outputs": [
    {
     "name": "stdout",
     "output_type": "stream",
     "text": [
      "1.14.3\n",
      "1.0.4\n",
      "2.2.2\n"
     ]
    }
   ],
   "source": [
    "import numpy\n",
    "import theano\n",
    "import keras\n",
    "print (numpy.__version__)\n",
    "print (theano.__version__)\n",
    "print(str(keras.__version__))"
   ]
  },
  {
   "cell_type": "code",
   "execution_count": 45,
   "metadata": {},
   "outputs": [],
   "source": [
    "import numpy as np\n",
    "np.random.seed(123)  # for reproducibility"
   ]
  },
  {
   "cell_type": "code",
   "execution_count": 46,
   "metadata": {},
   "outputs": [],
   "source": [
    "from keras.models import Sequential\n",
    "from keras.layers import Dense, Dropout, Activation, Flatten\n",
    "from keras.layers import MaxPooling2D\n",
    "from tensorflow.keras.layers import Conv2D\n",
    "from keras.utils import np_utils"
   ]
  },
  {
   "cell_type": "code",
   "execution_count": 47,
   "metadata": {},
   "outputs": [],
   "source": [
    "from keras.datasets import mnist\n",
    " \n",
    "# Load pre-shuffled MNIST data into train and test sets\n",
    "(X_train, y_train), (X_test, y_test) = mnist.load_data()"
   ]
  },
  {
   "cell_type": "code",
   "execution_count": 48,
   "metadata": {},
   "outputs": [
    {
     "name": "stdout",
     "output_type": "stream",
     "text": [
      "(60000, 28, 28)\n"
     ]
    }
   ],
   "source": [
    "# 60,000 samples in the training set, and the images are 28 pixels x 28 pixels each\n",
    "print(X_train.shape)"
   ]
  },
  {
   "cell_type": "code",
   "execution_count": 49,
   "metadata": {},
   "outputs": [
    {
     "data": {
      "text/plain": [
       "<matplotlib.image.AxesImage at 0x20649850320>"
      ]
     },
     "execution_count": 49,
     "metadata": {},
     "output_type": "execute_result"
    },
    {
     "data": {
      "image/png": "[encoded data removed]",
      "text/plain": [
       "<Figure size 432x288 with 1 Axes>"
      ]
     },
     "metadata": {},
     "output_type": "display_data"
    }
   ],
   "source": [
    "from matplotlib import pyplot as plt\n",
    "plt.imshow(X_train[0])"
   ]
  },
  {
   "cell_type": "markdown",
   "metadata": {},
   "source": [
    "### Long Short-Term Memory\n",
    "* Forecasting time series with LSTM models\n",
    "* This is for pattern recognition not forecasting to be precise!!!"
   ]
  },
  {
   "cell_type": "code",
   "execution_count": 50,
   "metadata": {},
   "outputs": [],
   "source": [
    "import numpy as np\n",
    "import matplotlib.pyplot as plt\n",
    "import pandas as pd"
   ]
  },
  {
   "cell_type": "code",
   "execution_count": 56,
   "metadata": {},
   "outputs": [],
   "source": [
    "dataset_train = pd.read_csv('NSE-TATAGLOBAL.csv')\n",
    "training_set = dataset_train.iloc[:, 1:2].values"
   ]
  },
  {
   "cell_type": "code",
   "execution_count": 57,
   "metadata": {},
   "outputs": [
    {
     "data": {
      "text/html": [
       "<div>\n",
       "<style scoped>\n",
       "    .dataframe tbody tr th:only-of-type {\n",
       "        vertical-align: middle;\n",
       "    }\n",
       "\n",
       "    .dataframe tbody tr th {\n",
       "        vertical-align: top;\n",
       "    }\n",
       "\n",
       "    .dataframe thead th {\n",
       "        text-align: right;\n",
       "    }\n",
       "</style>\n",
       "<table border=\"1\" class=\"dataframe\">\n",
       "  <thead>\n",
       "    <tr style=\"text-align: right;\">\n",
       "      <th></th>\n",
       "      <th>Date</th>\n",
       "      <th>Open</th>\n",
       "      <th>High</th>\n",
       "      <th>Low</th>\n",
       "      <th>Last</th>\n",
       "      <th>Close</th>\n",
       "      <th>Total Trade Quantity</th>\n",
       "      <th>Turnover (Lacs)</th>\n",
       "    </tr>\n",
       "  </thead>\n",
       "  <tbody>\n",
       "    <tr>\n",
       "      <th>0</th>\n",
       "      <td>2019-01-04</td>\n",
       "      <td>210.60</td>\n",
       "      <td>214.90</td>\n",
       "      <td>210.00</td>\n",
       "      <td>213.50</td>\n",
       "      <td>213.80</td>\n",
       "      <td>1213181.0</td>\n",
       "      <td>2583.05</td>\n",
       "    </tr>\n",
       "    <tr>\n",
       "      <th>1</th>\n",
       "      <td>2019-01-03</td>\n",
       "      <td>214.95</td>\n",
       "      <td>215.35</td>\n",
       "      <td>209.90</td>\n",
       "      <td>210.55</td>\n",
       "      <td>210.05</td>\n",
       "      <td>2096553.0</td>\n",
       "      <td>4433.50</td>\n",
       "    </tr>\n",
       "    <tr>\n",
       "      <th>2</th>\n",
       "      <td>2019-01-02</td>\n",
       "      <td>219.00</td>\n",
       "      <td>220.35</td>\n",
       "      <td>213.60</td>\n",
       "      <td>214.20</td>\n",
       "      <td>214.60</td>\n",
       "      <td>1081778.0</td>\n",
       "      <td>2340.31</td>\n",
       "    </tr>\n",
       "    <tr>\n",
       "      <th>3</th>\n",
       "      <td>2019-01-01</td>\n",
       "      <td>219.95</td>\n",
       "      <td>221.05</td>\n",
       "      <td>218.05</td>\n",
       "      <td>218.95</td>\n",
       "      <td>219.10</td>\n",
       "      <td>716275.0</td>\n",
       "      <td>1571.63</td>\n",
       "    </tr>\n",
       "    <tr>\n",
       "      <th>4</th>\n",
       "      <td>2018-12-31</td>\n",
       "      <td>222.00</td>\n",
       "      <td>223.65</td>\n",
       "      <td>218.85</td>\n",
       "      <td>219.55</td>\n",
       "      <td>219.40</td>\n",
       "      <td>965858.0</td>\n",
       "      <td>2131.09</td>\n",
       "    </tr>\n",
       "  </tbody>\n",
       "</table>\n",
       "</div>"
      ],
      "text/plain": [
       "         Date    Open    High     Low    Last   Close  Total Trade Quantity  \\\n",
       "0  2019-01-04  210.60  214.90  210.00  213.50  213.80             1213181.0   \n",
       "1  2019-01-03  214.95  215.35  209.90  210.55  210.05             2096553.0   \n",
       "2  2019-01-02  219.00  220.35  213.60  214.20  214.60             1081778.0   \n",
       "3  2019-01-01  219.95  221.05  218.05  218.95  219.10              716275.0   \n",
       "4  2018-12-31  222.00  223.65  218.85  219.55  219.40              965858.0   \n",
       "\n",
       "   Turnover (Lacs)  \n",
       "0          2583.05  \n",
       "1          4433.50  \n",
       "2          2340.31  \n",
       "3          1571.63  \n",
       "4          2131.09  "
      ]
     },
     "execution_count": 57,
     "metadata": {},
     "output_type": "execute_result"
    }
   ],
   "source": [
    "dataset_train.head()"
   ]
  },
  {
   "cell_type": "code",
   "execution_count": 60,
   "metadata": {},
   "outputs": [
    {
     "data": {
      "text/html": [
       "<div>\n",
       "<style scoped>\n",
       "    .dataframe tbody tr th:only-of-type {\n",
       "        vertical-align: middle;\n",
       "    }\n",
       "\n",
       "    .dataframe tbody tr th {\n",
       "        vertical-align: top;\n",
       "    }\n",
       "\n",
       "    .dataframe thead th {\n",
       "        text-align: right;\n",
       "    }\n",
       "</style>\n",
       "<table border=\"1\" class=\"dataframe\">\n",
       "  <thead>\n",
       "    <tr style=\"text-align: right;\">\n",
       "      <th></th>\n",
       "      <th>Open</th>\n",
       "    </tr>\n",
       "  </thead>\n",
       "  <tbody>\n",
       "    <tr>\n",
       "      <th>0</th>\n",
       "      <td>210.60</td>\n",
       "    </tr>\n",
       "    <tr>\n",
       "      <th>1</th>\n",
       "      <td>214.95</td>\n",
       "    </tr>\n",
       "    <tr>\n",
       "      <th>2</th>\n",
       "      <td>219.00</td>\n",
       "    </tr>\n",
       "    <tr>\n",
       "      <th>3</th>\n",
       "      <td>219.95</td>\n",
       "    </tr>\n",
       "    <tr>\n",
       "      <th>4</th>\n",
       "      <td>222.00</td>\n",
       "    </tr>\n",
       "  </tbody>\n",
       "</table>\n",
       "</div>"
      ],
      "text/plain": [
       "     Open\n",
       "0  210.60\n",
       "1  214.95\n",
       "2  219.00\n",
       "3  219.95\n",
       "4  222.00"
      ]
     },
     "execution_count": 60,
     "metadata": {},
     "output_type": "execute_result"
    }
   ],
   "source": [
    "dataset_train.iloc[:, 1:2].head()"
   ]
  },
  {
   "cell_type": "code",
   "execution_count": 58,
   "metadata": {},
   "outputs": [
    {
     "data": {
      "text/plain": [
       "array([[210.6 ],\n",
       "       [214.95],\n",
       "       [219.  ],\n",
       "       ...,\n",
       "       [121.8 ],\n",
       "       [120.3 ],\n",
       "       [122.1 ]])"
      ]
     },
     "execution_count": 58,
     "metadata": {},
     "output_type": "execute_result"
    }
   ],
   "source": [
    "training_set"
   ]
  },
  {
   "cell_type": "markdown",
   "metadata": {},
   "source": [
    "### Feature Scaling"
   ]
  },
  {
   "cell_type": "code",
   "execution_count": 100,
   "metadata": {},
   "outputs": [],
   "source": [
    "from sklearn.preprocessing import MinMaxScaler\n",
    "sc = MinMaxScaler(feature_range = (0, 1))\n",
    "training_set_scaled = sc.fit_transform(training_set)"
   ]
  },
  {
   "cell_type": "code",
   "execution_count": 101,
   "metadata": {},
   "outputs": [
    {
     "data": {
      "text/plain": [
       "array([0.54501217, 0.51459854, 0.55109489])"
      ]
     },
     "execution_count": 101,
     "metadata": {},
     "output_type": "execute_result"
    }
   ],
   "source": [
    "training_set_scaled[59:62,0]"
   ]
  },
  {
   "cell_type": "code",
   "execution_count": 102,
   "metadata": {},
   "outputs": [
    {
     "data": {
      "text/plain": [
       "numpy.ndarray"
      ]
     },
     "execution_count": 102,
     "metadata": {},
     "output_type": "execute_result"
    }
   ],
   "source": [
    "type(training_set_scaled)"
   ]
  },
  {
   "cell_type": "code",
   "execution_count": 103,
   "metadata": {},
   "outputs": [
    {
     "data": {
      "text/plain": [
       "[array([0.52514193, 0.54278183, 0.55920519, 0.56305758, 0.57137064,\n",
       "        0.57035685, 0.57055961, 0.5648824 , 0.54521492, 0.52676399,\n",
       "        0.52068127, 0.52514193, 0.52189781, 0.53406326, 0.53081914,\n",
       "        0.53629359, 0.49493106, 0.46188159, 0.49432279, 0.51682887,\n",
       "        0.52473642, 0.51865369, 0.5419708 , 0.55717762, 0.54805353,\n",
       "        0.55109489, 0.55271695, 0.55900243, 0.55291971, 0.55920519,\n",
       "        0.54298459, 0.57542579, 0.57137064, 0.56934307, 0.55494728,\n",
       "        0.56549067, 0.53892944, 0.52676399, 0.54298459, 0.54298459,\n",
       "        0.5663017 , 0.55312247, 0.56326034, 0.55515004, 0.55596107,\n",
       "        0.56690998, 0.55109489, 0.57542579, 0.55474453, 0.56366586,\n",
       "        0.56772101, 0.60158151, 0.60502839, 0.6350365 , 0.63260341,\n",
       "        0.6025953 , 0.58860503, 0.54298459, 0.54298459, 0.54501217])]"
      ]
     },
     "execution_count": 103,
     "metadata": {},
     "output_type": "execute_result"
    }
   ],
   "source": [
    "X_train = []\n",
    "X_train.append(training_set_scaled[60-60: 60, 0])\n",
    "X_train "
   ]
  },
  {
   "cell_type": "code",
   "execution_count": 104,
   "metadata": {},
   "outputs": [
    {
     "data": {
      "text/plain": [
       "[0.5145985401459854]"
      ]
     },
     "execution_count": 104,
     "metadata": {},
     "output_type": "execute_result"
    }
   ],
   "source": [
    "y_train = []\n",
    "y_train.append(training_set_scaled[60, 0])\n",
    "y_train"
   ]
  },
  {
   "cell_type": "code",
   "execution_count": 105,
   "metadata": {},
   "outputs": [],
   "source": [
    "X_train = []\n",
    "y_train = []\n",
    "for i in range(60, 2035):\n",
    "    X_train.append(training_set_scaled[i-60:i, 0])\n",
    "    y_train.append(training_set_scaled[i, 0])\n",
    "X_train, y_train = np.array(X_train), np.array(y_train)\n",
    "\n",
    "X_train = np.reshape(X_train, (X_train.shape[0], X_train.shape[1], 1))"
   ]
  },
  {
   "cell_type": "code",
   "execution_count": 106,
   "metadata": {},
   "outputs": [
    {
     "data": {
      "text/plain": [
       "1975"
      ]
     },
     "execution_count": 106,
     "metadata": {},
     "output_type": "execute_result"
    }
   ],
   "source": [
    "X_train.shape[0]"
   ]
  },
  {
   "cell_type": "code",
   "execution_count": 107,
   "metadata": {},
   "outputs": [
    {
     "data": {
      "text/plain": [
       "60"
      ]
     },
     "execution_count": 107,
     "metadata": {},
     "output_type": "execute_result"
    }
   ],
   "source": [
    "X_train.shape[1]"
   ]
  },
  {
   "cell_type": "code",
   "execution_count": 108,
   "metadata": {},
   "outputs": [
    {
     "data": {
      "text/plain": [
       "(1975, 60, 1)"
      ]
     },
     "execution_count": 108,
     "metadata": {},
     "output_type": "execute_result"
    }
   ],
   "source": [
    "X_train.shape"
   ]
  },
  {
   "cell_type": "code",
   "execution_count": 109,
   "metadata": {},
   "outputs": [],
   "source": [
    "from keras.models import Sequential\n",
    "from keras.layers import Dense\n",
    "from keras.layers import LSTM\n",
    "from keras.layers import Dropout"
   ]
  },
  {
   "cell_type": "code",
   "execution_count": 110,
   "metadata": {
    "scrolled": true
   },
   "outputs": [
    {
     "name": "stdout",
     "output_type": "stream",
     "text": [
      "Epoch 1/50\n",
      "1975/1975 [==============================] - 16s 8ms/step - loss: 0.0106\n",
      "Epoch 2/50\n",
      "1975/1975 [==============================] - 11s 5ms/step - loss: 0.0032\n",
      "Epoch 3/50\n",
      "1975/1975 [==============================] - 11s 6ms/step - loss: 0.0029\n",
      "Epoch 4/50\n",
      "1975/1975 [==============================] - 13s 7ms/step - loss: 0.0026\n",
      "Epoch 5/50\n",
      "1975/1975 [==============================] - 12s 6ms/step - loss: 0.0024\n",
      "Epoch 6/50\n",
      "1975/1975 [==============================] - 11s 5ms/step - loss: 0.0024\n",
      "Epoch 7/50\n",
      "1975/1975 [==============================] - 16s 8ms/step - loss: 0.0021\n",
      "Epoch 8/50\n",
      "1975/1975 [==============================] - 19s 10ms/step - loss: 0.0022\n",
      "Epoch 9/50\n",
      "1975/1975 [==============================] - 11s 5ms/step - loss: 0.0020: 5s - loss: 0.\n",
      "Epoch 10/50\n",
      "1975/1975 [==============================] - 12s 6ms/step - loss: 0.0019\n",
      "Epoch 11/50\n",
      "1975/1975 [==============================] - 15s 7ms/step - loss: 0.0018\n",
      "Epoch 12/50\n",
      "1975/1975 [==============================] - 20s 10ms/step - loss: 0.0019\n",
      "Epoch 13/50\n",
      "1975/1975 [==============================] - 17s 9ms/step - loss: 0.0019\n",
      "Epoch 14/50\n",
      "1975/1975 [==============================] - 20s 10ms/step - loss: 0.0018\n",
      "Epoch 15/50\n",
      "1975/1975 [==============================] - 22s 11ms/step - loss: 0.0019\n",
      "Epoch 16/50\n",
      "1975/1975 [==============================] - 23s 11ms/step - loss: 0.0017\n",
      "Epoch 17/50\n",
      "1975/1975 [==============================] - 24s 12ms/step - loss: 0.0015\n",
      "Epoch 18/50\n",
      "1975/1975 [==============================] - 17s 8ms/step - loss: 0.0018\n",
      "Epoch 19/50\n",
      "1975/1975 [==============================] - 15s 8ms/step - loss: 0.0018\n",
      "Epoch 20/50\n",
      "1975/1975 [==============================] - 15s 7ms/step - loss: 0.0016\n",
      "Epoch 21/50\n",
      "1975/1975 [==============================] - 14s 7ms/step - loss: 0.0015\n",
      "Epoch 22/50\n",
      "1975/1975 [==============================] - 15s 8ms/step - loss: 0.0014\n",
      "Epoch 23/50\n",
      "1975/1975 [==============================] - 15s 8ms/step - loss: 0.0015\n",
      "Epoch 24/50\n",
      "1975/1975 [==============================] - 16s 8ms/step - loss: 0.0014\n",
      "Epoch 25/50\n",
      "1975/1975 [==============================] - 16s 8ms/step - loss: 0.0014\n",
      "Epoch 26/50\n",
      "1975/1975 [==============================] - 16s 8ms/step - loss: 0.0014\n",
      "Epoch 27/50\n",
      "1975/1975 [==============================] - 20s 10ms/step - loss: 0.0012\n",
      "Epoch 28/50\n",
      "1975/1975 [==============================] - 17s 9ms/step - loss: 0.0013\n",
      "Epoch 29/50\n",
      "1975/1975 [==============================] - 19s 9ms/step - loss: 0.0013\n",
      "Epoch 30/50\n",
      "1975/1975 [==============================] - 17s 9ms/step - loss: 0.0012\n",
      "Epoch 31/50\n",
      "1975/1975 [==============================] - 16s 8ms/step - loss: 0.0011\n",
      "Epoch 32/50\n",
      "1975/1975 [==============================] - 16s 8ms/step - loss: 0.0012\n",
      "Epoch 33/50\n",
      "1975/1975 [==============================] - 16s 8ms/step - loss: 0.0011\n",
      "Epoch 34/50\n",
      "1975/1975 [==============================] - 16s 8ms/step - loss: 0.0014\n",
      "Epoch 35/50\n",
      "1975/1975 [==============================] - 17s 9ms/step - loss: 0.0014\n",
      "Epoch 36/50\n",
      "1975/1975 [==============================] - 17s 8ms/step - loss: 0.0011\n",
      "Epoch 37/50\n",
      "1975/1975 [==============================] - 16s 8ms/step - loss: 9.8678e-04\n",
      "Epoch 38/50\n",
      "1975/1975 [==============================] - 16s 8ms/step - loss: 0.0011\n",
      "Epoch 39/50\n",
      "1975/1975 [==============================] - 16s 8ms/step - loss: 9.4304e-04\n",
      "Epoch 40/50\n",
      "1975/1975 [==============================] - 16s 8ms/step - loss: 9.6477e-04\n",
      "Epoch 41/50\n",
      "1975/1975 [==============================] - 16s 8ms/step - loss: 8.8731e-04\n",
      "Epoch 42/50\n",
      "1975/1975 [==============================] - 20s 10ms/step - loss: 8.9287e-04\n",
      "Epoch 43/50\n",
      "1975/1975 [==============================] - 20s 10ms/step - loss: 9.5561e-04\n",
      "Epoch 44/50\n",
      "1975/1975 [==============================] - 19s 10ms/step - loss: 8.9090e-04\n",
      "Epoch 45/50\n",
      "1975/1975 [==============================] - 18s 9ms/step - loss: 9.6982e-04\n",
      "Epoch 46/50\n",
      "1975/1975 [==============================] - 19s 9ms/step - loss: 0.0010\n",
      "Epoch 47/50\n",
      "1975/1975 [==============================] - 18s 9ms/step - loss: 8.2279e-04\n",
      "Epoch 48/50\n",
      "1975/1975 [==============================] - 17s 8ms/step - loss: 9.0157e-04\n",
      "Epoch 49/50\n",
      "1975/1975 [==============================] - 15s 8ms/step - loss: 9.2271e-04\n",
      "Epoch 50/50\n",
      "1975/1975 [==============================] - 14s 7ms/step - loss: 8.9638e-04\n"
     ]
    },
    {
     "data": {
      "text/plain": [
       "<keras.callbacks.History at 0x20656ea0f28>"
      ]
     },
     "execution_count": 110,
     "metadata": {},
     "output_type": "execute_result"
    }
   ],
   "source": [
    "regressor = Sequential()\n",
    "\n",
    "regressor.add(LSTM(units = 50, return_sequences = True, input_shape = (X_train.shape[1], 1)))\n",
    "regressor.add(Dropout(0.2))\n",
    "\n",
    "regressor.add(LSTM(units = 50, return_sequences = True))\n",
    "regressor.add(Dropout(0.2))\n",
    "\n",
    "regressor.add(LSTM(units = 50, return_sequences = True))\n",
    "regressor.add(Dropout(0.2))\n",
    "\n",
    "regressor.add(LSTM(units = 50))\n",
    "regressor.add(Dropout(0.2))\n",
    "\n",
    "regressor.add(Dense(units = 1))\n",
    "\n",
    "regressor.compile(optimizer = 'adam', loss = 'mean_squared_error')\n",
    "\n",
    "regressor.fit(X_train, y_train, epochs = 50, batch_size = 32)"
   ]
  },
  {
   "cell_type": "code",
   "execution_count": 111,
   "metadata": {},
   "outputs": [],
   "source": [
    "regressor.save('my_model.h5') "
   ]
  },
  {
   "cell_type": "code",
   "execution_count": 112,
   "metadata": {},
   "outputs": [
    {
     "data": {
      "text/plain": [
       "[<keras.layers.recurrent.LSTM at 0x2065075a6d8>,\n",
       " <keras.layers.core.Dropout at 0x2065075a4e0>,\n",
       " <keras.layers.recurrent.LSTM at 0x2065075a320>,\n",
       " <keras.layers.core.Dropout at 0x2065075a358>,\n",
       " <keras.layers.recurrent.LSTM at 0x206567a15f8>,\n",
       " <keras.layers.core.Dropout at 0x2065677acc0>,\n",
       " <keras.layers.recurrent.LSTM at 0x20656b2e2e8>,\n",
       " <keras.layers.core.Dropout at 0x206568950b8>,\n",
       " <keras.layers.core.Dense at 0x20656d839b0>]"
      ]
     },
     "execution_count": 112,
     "metadata": {},
     "output_type": "execute_result"
    }
   ],
   "source": [
    "regressor.layers"
   ]
  },
  {
   "cell_type": "code",
   "execution_count": 149,
   "metadata": {},
   "outputs": [],
   "source": [
    "dataset_test = pd.read_csv('tatatest.csv')\n",
    "real_stock_price = dataset_test.iloc[:, 1:2].values"
   ]
  },
  {
   "cell_type": "markdown",
   "metadata": {},
   "source": [
    "from keras.models import load_model\n",
    "\n",
    "model.save('my_model.h5')  # creates a HDF5 file 'my_model.h5'\n",
    "del model  # deletes the existing model\n",
    "\n",
    "model = load_model('my_model.h5')"
   ]
  },
  {
   "cell_type": "code",
   "execution_count": 150,
   "metadata": {},
   "outputs": [],
   "source": [
    "dataset_total = pd.concat((dataset_train['Open'], dataset_test['Open']), axis = 0)\n",
    "inputs = dataset_total[len(dataset_total) - len(dataset_test) - 60:].values\n",
    "inputs = inputs.reshape(-1,1)\n",
    "inputs = sc.transform(inputs)\n",
    "X_test = []\n",
    "for i in range(60, 76):\n",
    "    X_test.append(inputs[i-60:i, 0])\n",
    "X_test = np.array(X_test)\n",
    "X_test = np.reshape(X_test, (X_test.shape[0], X_test.shape[1], 1))\n",
    "predicted_stock_price = regressor.predict(X_test)\n",
    "predicted_stock_price = sc.inverse_transform(predicted_stock_price)"
   ]
  },
  {
   "cell_type": "code",
   "execution_count": 151,
   "metadata": {},
   "outputs": [
    {
     "data": {
      "text/plain": [
       "array([[220.1 ],\n",
       "       [221.1 ],\n",
       "       [229.45],\n",
       "       [230.3 ],\n",
       "       [237.7 ],\n",
       "       [237.1 ],\n",
       "       [229.7 ],\n",
       "       [226.25],\n",
       "       [215.  ],\n",
       "       [215.  ],\n",
       "       [215.5 ],\n",
       "       [208.  ],\n",
       "       [217.  ],\n",
       "       [223.5 ],\n",
       "       [230.  ],\n",
       "       [234.55]])"
      ]
     },
     "execution_count": 151,
     "metadata": {},
     "output_type": "execute_result"
    }
   ],
   "source": [
    "real_stock_price"
   ]
  },
  {
   "cell_type": "code",
   "execution_count": 152,
   "metadata": {},
   "outputs": [
    {
     "data": {
      "text/plain": [
       "array([[120.81096],\n",
       "       [142.49695],\n",
       "       [177.23477],\n",
       "       [207.92577],\n",
       "       [224.7245 ],\n",
       "       [230.68936],\n",
       "       [230.20514],\n",
       "       [225.56923],\n",
       "       [219.8646 ],\n",
       "       [213.32841],\n",
       "       [208.56424],\n",
       "       [207.04312],\n",
       "       [206.43526],\n",
       "       [208.43074],\n",
       "       [213.42812],\n",
       "       [220.33684]], dtype=float32)"
      ]
     },
     "execution_count": 152,
     "metadata": {},
     "output_type": "execute_result"
    }
   ],
   "source": [
    "predicted_stock_price"
   ]
  },
  {
   "cell_type": "code",
   "execution_count": 153,
   "metadata": {},
   "outputs": [],
   "source": [
    "real_stock_price=real_stock_price[::-1]\n",
    "predicted_stock_price=predicted_stock_price[::-1]"
   ]
  },
  {
   "cell_type": "code",
   "execution_count": 154,
   "metadata": {},
   "outputs": [
    {
     "data": {
      "image/png": "[encoded data removed]",
      "text/plain": [
       "<Figure size 432x288 with 1 Axes>"
      ]
     },
     "metadata": {},
     "output_type": "display_data"
    }
   ],
   "source": [
    "plt.plot(real_stock_price, color = 'black', label = 'TATA Stock Price')\n",
    "plt.plot(predicted_stock_price, color = 'green', label = 'Predicted TATA Stock Price')\n",
    "plt.title('TATA Stock Price Prediction')\n",
    "plt.xlabel('Time')\n",
    "plt.ylabel('TATA Stock Price')\n",
    "plt.legend()\n",
    "plt.show()"
   ]
  },
  {
   "cell_type": "code",
   "execution_count": 155,
   "metadata": {},
   "outputs": [
    {
     "data": {
      "text/plain": [
       "array([[234.55],\n",
       "       [230.  ],\n",
       "       [223.5 ],\n",
       "       [217.  ],\n",
       "       [208.  ],\n",
       "       [215.5 ],\n",
       "       [215.  ],\n",
       "       [215.  ],\n",
       "       [226.25],\n",
       "       [229.7 ],\n",
       "       [237.1 ],\n",
       "       [237.7 ],\n",
       "       [230.3 ],\n",
       "       [229.45],\n",
       "       [221.1 ],\n",
       "       [220.1 ]])"
      ]
     },
     "execution_count": 155,
     "metadata": {},
     "output_type": "execute_result"
    }
   ],
   "source": [
    "real_stock_price"
   ]
  },
  {
   "cell_type": "code",
   "execution_count": 156,
   "metadata": {},
   "outputs": [
    {
     "data": {
      "text/plain": [
       "array([[220.33684],\n",
       "       [213.42812],\n",
       "       [208.43074],\n",
       "       [206.43526],\n",
       "       [207.04312],\n",
       "       [208.56424],\n",
       "       [213.32841],\n",
       "       [219.8646 ],\n",
       "       [225.56923],\n",
       "       [230.20514],\n",
       "       [230.68936],\n",
       "       [224.7245 ],\n",
       "       [207.92577],\n",
       "       [177.23477],\n",
       "       [142.49695],\n",
       "       [120.81096]], dtype=float32)"
      ]
     },
     "execution_count": 156,
     "metadata": {},
     "output_type": "execute_result"
    }
   ],
   "source": [
    "predicted_stock_price"
   ]
  }
 ],
 "metadata": {
  "kernelspec": {
   "display_name": "Python 3",
   "language": "python",
   "name": "python3"
  },
  "language_info": {
   "codemirror_mode": {
    "name": "ipython",
    "version": 3
   },
   "file_extension": ".py",
   "mimetype": "text/x-python",
   "name": "python",
   "nbconvert_exporter": "python",
   "pygments_lexer": "ipython3",
   "version": "3.6.5"
  }
 },
 "nbformat": 4,
 "nbformat_minor": 2
}
