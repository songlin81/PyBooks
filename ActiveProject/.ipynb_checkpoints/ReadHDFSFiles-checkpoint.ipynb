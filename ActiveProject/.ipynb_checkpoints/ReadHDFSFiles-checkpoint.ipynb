{
 "cells": [
  {
   "cell_type": "code",
   "execution_count": 1,
   "metadata": {},
   "outputs": [],
   "source": [
    "import pyspark\n",
    "import matplotlib\n",
    "\n",
    "from pyspark import SparkContext\n",
    "sc = SparkContext(\"local\", \"First App\")"
   ]
  },
  {
   "cell_type": "code",
   "execution_count": 2,
   "metadata": {},
   "outputs": [],
   "source": [
    "rdd = sc.textFile(\"hdfs://localhost:9000/input_dir/sample.txt\")"
   ]
  },
  {
   "cell_type": "code",
   "execution_count": 3,
   "metadata": {},
   "outputs": [
    {
     "data": {
      "text/plain": [
       "5"
      ]
     },
     "execution_count": 3,
     "metadata": {},
     "output_type": "execute_result"
    }
   ],
   "source": [
    "rdd.count()"
   ]
  },
  {
   "cell_type": "code",
   "execution_count": 4,
   "metadata": {},
   "outputs": [
    {
     "data": {
      "text/plain": [
       "['1979   23   23   2   43   24   25   26   26   26   26   25   26  25',\n",
       " '1980   26   27   28  28   28   30   31   31   31   30   30   30  29',\n",
       " '1981   31   32   32  32   33   34   35   36   36   34   34   34  34',\n",
       " '1984   39   38   39  39   39   41   42   43   40   39   38   38  40',\n",
       " '1985   38   39   39  39   39   41   41   41   00   40   39   39  45']"
      ]
     },
     "execution_count": 4,
     "metadata": {},
     "output_type": "execute_result"
    }
   ],
   "source": [
    "rdd.take(5)"
   ]
  },
  {
   "cell_type": "code",
   "execution_count": 5,
   "metadata": {},
   "outputs": [
    {
     "name": "stdout",
     "output_type": "stream",
     "text": [
      "1979   23   23   2   43   24   25   26   26   26   26   25   26  25\n",
      "1980   26   27   28  28   28   30   31   31   31   30   30   30  29\n",
      "1981   31   32   32  32   33   34   35   36   36   34   34   34  34\n",
      "1984   39   38   39  39   39   41   42   43   40   39   38   38  40\n",
      "1985   38   39   39  39   39   41   41   41   00   40   39   39  45\n"
     ]
    }
   ],
   "source": [
    "for xs in rdd.take(100):\n",
    "    print(xs)"
   ]
  },
  {
   "cell_type": "code",
   "execution_count": 6,
   "metadata": {},
   "outputs": [
    {
     "name": "stdout",
     "output_type": "stream",
     "text": [
      "['1979   23   23   2   43   24   25   26   26   26   26   25   26  25'\n",
      " '1980   26   27   28  28   28   30   31   31   31   30   30   30  29'\n",
      " '1981   31   32   32  32   33   34   35   36   36   34   34   34  34'\n",
      " '1984   39   38   39  39   39   41   42   43   40   39   38   38  40'\n",
      " '1985   38   39   39  39   39   41   41   41   00   40   39   39  45']\n"
     ]
    }
   ],
   "source": [
    "import numpy as np\n",
    "a = np.array(rdd.collect())\n",
    "print(a)"
   ]
  },
  {
   "cell_type": "code",
   "execution_count": null,
   "metadata": {},
   "outputs": [],
   "source": []
  }
 ],
 "metadata": {
  "kernelspec": {
   "display_name": "Python 3",
   "language": "python",
   "name": "python3"
  },
  "language_info": {
   "codemirror_mode": {
    "name": "ipython",
    "version": 3
   },
   "file_extension": ".py",
   "mimetype": "text/x-python",
   "name": "python",
   "nbconvert_exporter": "python",
   "pygments_lexer": "ipython3",
   "version": "3.6.5"
  }
 },
 "nbformat": 4,
 "nbformat_minor": 2
}
